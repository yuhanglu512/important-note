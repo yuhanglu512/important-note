{
 "cells": [
  {
   "cell_type": "code",
   "execution_count": 1,
   "metadata": {
    "ExecuteTime": {
     "end_time": "2021-09-29T08:59:46.319616Z",
     "start_time": "2021-09-29T08:59:43.658353Z"
    }
   },
   "outputs": [
    {
     "name": "stderr",
     "output_type": "stream",
     "text": [
      "In C:\\Users\\陆雨航\\AppData\\Local\\Programs\\Python\\Python37\\lib\\site-packages\\matplotlib\\mpl-data\\stylelib\\_classic_test.mplstyle: \n",
      "The text.latex.preview rcparam was deprecated in Matplotlib 3.3 and will be removed two minor releases later.\n",
      "In C:\\Users\\陆雨航\\AppData\\Local\\Programs\\Python\\Python37\\lib\\site-packages\\matplotlib\\mpl-data\\stylelib\\_classic_test.mplstyle: \n",
      "The mathtext.fallback_to_cm rcparam was deprecated in Matplotlib 3.3 and will be removed two minor releases later.\n",
      "In C:\\Users\\陆雨航\\AppData\\Local\\Programs\\Python\\Python37\\lib\\site-packages\\matplotlib\\mpl-data\\stylelib\\_classic_test.mplstyle: Support for setting the 'mathtext.fallback_to_cm' rcParam is deprecated since 3.3 and will be removed two minor releases later; use 'mathtext.fallback : 'cm' instead.\n",
      "In C:\\Users\\陆雨航\\AppData\\Local\\Programs\\Python\\Python37\\lib\\site-packages\\matplotlib\\mpl-data\\stylelib\\_classic_test.mplstyle: \n",
      "The validate_bool_maybe_none function was deprecated in Matplotlib 3.3 and will be removed two minor releases later.\n",
      "In C:\\Users\\陆雨航\\AppData\\Local\\Programs\\Python\\Python37\\lib\\site-packages\\matplotlib\\mpl-data\\stylelib\\_classic_test.mplstyle: \n",
      "The savefig.jpeg_quality rcparam was deprecated in Matplotlib 3.3 and will be removed two minor releases later.\n",
      "In C:\\Users\\陆雨航\\AppData\\Local\\Programs\\Python\\Python37\\lib\\site-packages\\matplotlib\\mpl-data\\stylelib\\_classic_test.mplstyle: \n",
      "The keymap.all_axes rcparam was deprecated in Matplotlib 3.3 and will be removed two minor releases later.\n",
      "In C:\\Users\\陆雨航\\AppData\\Local\\Programs\\Python\\Python37\\lib\\site-packages\\matplotlib\\mpl-data\\stylelib\\_classic_test.mplstyle: \n",
      "The animation.avconv_path rcparam was deprecated in Matplotlib 3.3 and will be removed two minor releases later.\n",
      "In C:\\Users\\陆雨航\\AppData\\Local\\Programs\\Python\\Python37\\lib\\site-packages\\matplotlib\\mpl-data\\stylelib\\_classic_test.mplstyle: \n",
      "The animation.avconv_args rcparam was deprecated in Matplotlib 3.3 and will be removed two minor releases later.\n"
     ]
    }
   ],
   "source": [
    "import pandas as pd\n",
    "import numpy as np\n",
    "import matplotlib.pyplot as plt\n",
    "from scipy.optimize import curve_fit,fmin"
   ]
  },
  {
   "cell_type": "code",
   "execution_count": 2,
   "metadata": {
    "ExecuteTime": {
     "end_time": "2021-09-29T09:02:08.224072Z",
     "start_time": "2021-09-29T09:02:08.180302Z"
    }
   },
   "outputs": [
    {
     "data": {
      "text/html": [
       "<div>\n",
       "<style scoped>\n",
       "    .dataframe tbody tr th:only-of-type {\n",
       "        vertical-align: middle;\n",
       "    }\n",
       "\n",
       "    .dataframe tbody tr th {\n",
       "        vertical-align: top;\n",
       "    }\n",
       "\n",
       "    .dataframe thead th {\n",
       "        text-align: right;\n",
       "    }\n",
       "</style>\n",
       "<table border=\"1\" class=\"dataframe\">\n",
       "  <thead>\n",
       "    <tr style=\"text-align: right;\">\n",
       "      <th></th>\n",
       "      <th>1</th>\n",
       "      <th>2</th>\n",
       "      <th>3</th>\n",
       "      <th>4</th>\n",
       "      <th>5</th>\n",
       "      <th>6</th>\n",
       "      <th>7</th>\n",
       "      <th>8</th>\n",
       "    </tr>\n",
       "    <tr>\n",
       "      <th>0</th>\n",
       "      <th></th>\n",
       "      <th></th>\n",
       "      <th></th>\n",
       "      <th></th>\n",
       "      <th></th>\n",
       "      <th></th>\n",
       "      <th></th>\n",
       "      <th></th>\n",
       "    </tr>\n",
       "  </thead>\n",
       "  <tbody>\n",
       "    <tr>\n",
       "      <th>3.19</th>\n",
       "      <td>1</td>\n",
       "      <td>F=</td>\n",
       "      <td>-4.690591</td>\n",
       "      <td>E0=</td>\n",
       "      <td>-4.690591</td>\n",
       "      <td>d</td>\n",
       "      <td>E</td>\n",
       "      <td>=-.469059E+01</td>\n",
       "    </tr>\n",
       "    <tr>\n",
       "      <th>3.22</th>\n",
       "      <td>1</td>\n",
       "      <td>F=</td>\n",
       "      <td>-4.741565</td>\n",
       "      <td>E0=</td>\n",
       "      <td>-4.741565</td>\n",
       "      <td>d</td>\n",
       "      <td>E</td>\n",
       "      <td>=-.474156E+01</td>\n",
       "    </tr>\n",
       "    <tr>\n",
       "      <th>3.25</th>\n",
       "      <td>1</td>\n",
       "      <td>F=</td>\n",
       "      <td>-4.776234</td>\n",
       "      <td>E0=</td>\n",
       "      <td>-4.776234</td>\n",
       "      <td>d</td>\n",
       "      <td>E</td>\n",
       "      <td>=-.477623E+01</td>\n",
       "    </tr>\n",
       "    <tr>\n",
       "      <th>3.28</th>\n",
       "      <td>1</td>\n",
       "      <td>F=</td>\n",
       "      <td>-4.796469</td>\n",
       "      <td>E0=</td>\n",
       "      <td>-4.796469</td>\n",
       "      <td>d</td>\n",
       "      <td>E</td>\n",
       "      <td>=-.479647E+01</td>\n",
       "    </tr>\n",
       "    <tr>\n",
       "      <th>3.31</th>\n",
       "      <td>1</td>\n",
       "      <td>F=</td>\n",
       "      <td>-4.804634</td>\n",
       "      <td>E0=</td>\n",
       "      <td>-4.804634</td>\n",
       "      <td>d</td>\n",
       "      <td>E</td>\n",
       "      <td>=-.480463E+01</td>\n",
       "    </tr>\n",
       "    <tr>\n",
       "      <th>3.34</th>\n",
       "      <td>1</td>\n",
       "      <td>F=</td>\n",
       "      <td>-4.799899</td>\n",
       "      <td>E0=</td>\n",
       "      <td>-4.799899</td>\n",
       "      <td>d</td>\n",
       "      <td>E</td>\n",
       "      <td>=-.479990E+01</td>\n",
       "    </tr>\n",
       "    <tr>\n",
       "      <th>3.37</th>\n",
       "      <td>1</td>\n",
       "      <td>F=</td>\n",
       "      <td>-4.784801</td>\n",
       "      <td>E0=</td>\n",
       "      <td>-4.784797</td>\n",
       "      <td>d</td>\n",
       "      <td>E</td>\n",
       "      <td>=-.478480E+01</td>\n",
       "    </tr>\n",
       "    <tr>\n",
       "      <th>3.40</th>\n",
       "      <td>1</td>\n",
       "      <td>F=</td>\n",
       "      <td>-4.759833</td>\n",
       "      <td>E0=</td>\n",
       "      <td>-4.759818</td>\n",
       "      <td>d</td>\n",
       "      <td>E</td>\n",
       "      <td>=-.475983E+01</td>\n",
       "    </tr>\n",
       "    <tr>\n",
       "      <th>3.43</th>\n",
       "      <td>1</td>\n",
       "      <td>F=</td>\n",
       "      <td>-4.726405</td>\n",
       "      <td>E0=</td>\n",
       "      <td>-4.726360</td>\n",
       "      <td>d</td>\n",
       "      <td>E</td>\n",
       "      <td>=-.472640E+01</td>\n",
       "    </tr>\n",
       "  </tbody>\n",
       "</table>\n",
       "</div>"
      ],
      "text/plain": [
       "      1   2         3    4         5  6  7              8\n",
       "0                                                        \n",
       "3.19  1  F= -4.690591  E0= -4.690591  d  E  =-.469059E+01\n",
       "3.22  1  F= -4.741565  E0= -4.741565  d  E  =-.474156E+01\n",
       "3.25  1  F= -4.776234  E0= -4.776234  d  E  =-.477623E+01\n",
       "3.28  1  F= -4.796469  E0= -4.796469  d  E  =-.479647E+01\n",
       "3.31  1  F= -4.804634  E0= -4.804634  d  E  =-.480463E+01\n",
       "3.34  1  F= -4.799899  E0= -4.799899  d  E  =-.479990E+01\n",
       "3.37  1  F= -4.784801  E0= -4.784797  d  E  =-.478480E+01\n",
       "3.40  1  F= -4.759833  E0= -4.759818  d  E  =-.475983E+01\n",
       "3.43  1  F= -4.726405  E0= -4.726360  d  E  =-.472640E+01"
      ]
     },
     "execution_count": 2,
     "metadata": {},
     "output_type": "execute_result"
    }
   ],
   "source": [
    "containing_folder='CdTe/PBE/'\n",
    "df=pd.read_csv(containing_folder+'SUMMARY.fcc',sep='\\s+', header=None)\n",
    "df=df.set_index(0)\n",
    "df"
   ]
  },
  {
   "cell_type": "code",
   "execution_count": 3,
   "metadata": {
    "ExecuteTime": {
     "end_time": "2021-09-29T09:02:12.010275Z",
     "start_time": "2021-09-29T09:02:11.783562Z"
    }
   },
   "outputs": [
    {
     "data": {
      "text/plain": [
       "<AxesSubplot:xlabel='0'>"
      ]
     },
     "execution_count": 3,
     "metadata": {},
     "output_type": "execute_result"
    },
    {
     "data": {
      "image/png": "[encoded data removed]",
      "text/plain": [
       "<Figure size 432x288 with 1 Axes>"
      ]
     },
     "metadata": {
      "needs_background": "light"
     },
     "output_type": "display_data"
    }
   ],
   "source": [
    "# df[3]=df[3].astype()\n",
    "df[3].plot()\n"
   ]
  },
  {
   "cell_type": "code",
   "execution_count": 4,
   "metadata": {
    "ExecuteTime": {
     "end_time": "2021-09-29T09:02:15.920988Z",
     "start_time": "2021-09-29T09:02:15.860335Z"
    }
   },
   "outputs": [],
   "source": [
    "def quadrtic(x,a,b,c):\n",
    "  return 1/2*a*x**2+b*x+c\n",
    "\n",
    "popt,pcov=curve_fit(quadrtic,df.index,df[3])"
   ]
  },
  {
   "cell_type": "code",
   "execution_count": 5,
   "metadata": {
    "ExecuteTime": {
     "end_time": "2021-09-29T09:02:17.492882Z",
     "start_time": "2021-09-29T09:02:17.479663Z"
    }
   },
   "outputs": [],
   "source": [
    "lattice=np.linspace(df.index[0],df.index[-1],20)\n",
    "energy_predict=quadrtic(lattice,popt[0],popt[1],popt[2])"
   ]
  },
  {
   "cell_type": "code",
   "execution_count": 6,
   "metadata": {
    "ExecuteTime": {
     "end_time": "2021-09-29T09:03:30.290245Z",
     "start_time": "2021-09-29T09:03:30.027466Z"
    }
   },
   "outputs": [
    {
     "data": {
      "text/plain": [
       "3.3191265969887582"
      ]
     },
     "execution_count": 6,
     "metadata": {},
     "output_type": "execute_result"
    },
    {
     "data": {
      "image/png": "[encoded data removed]",
      "text/plain": [
       "<Figure size 432x288 with 1 Axes>"
      ]
     },
     "metadata": {
      "needs_background": "light"
     },
     "output_type": "display_data"
    }
   ],
   "source": [
    "fig=plt.figure()\n",
    "ax=plt.gca()\n",
    "plt.plot(df.index,df[3],label='experiment data')\n",
    "plt.plot(lattice,energy_predict,label='curve fitting')\n",
    "plt.xlabel(r'$lattice\\quadconstant/\\AA$')\n",
    "plt.ylabel('ENERGY/eV')\n",
    "ax.spines['right'].set_visible(False)\n",
    "ax.spines['top'].set_visible(False)\n",
    "plt.legend(frameon=False)\n",
    "-popt[1]/popt[0]"
   ]
  },
  {
   "cell_type": "code",
   "execution_count": 31,
   "metadata": {},
   "outputs": [],
   "source": [
    "'''\n",
    "def BM_eq(length,E_0,V_0,B_0,B_note):\n",
    "    # Birch–Murnaghan equation of state from wiki\n",
    "    return E_0+9*V_0*B_0/16*(((V_0/length**3)**(2/3)-1)**3*B_note+((V_0/length**3)**(2/3)-1)**2*(6-4*(V_0/length**3)**(2/3)))\n",
    "\n",
    "popt,pcov=curve_fit(BM_eq,df.index,df[3])\n",
    "'''"
   ]
  },
  {
   "cell_type": "code",
   "execution_count": 32,
   "metadata": {},
   "outputs": [],
   "source": [
    "'''\n",
    "lattice=np.linspace(df.index[0],df.index[-1],20)\n",
    "energy_predict_BM=BM_eq(lattice,popt[0],popt[1],popt[2],popt[3])\n",
    "'''"
   ]
  },
  {
   "cell_type": "code",
   "execution_count": 16,
   "metadata": {},
   "outputs": [],
   "source": [
    "# fig.savefig(containing_folder+'quadrtic_fitting',dpi=600)"
   ]
  }
 ],
 "metadata": {
  "interpreter": {
   "hash": "efc5d5b2cb0e54c1b473a14c28e2362fa72069a7376638f5f5d8900d77ac6ce3"
  },
  "kernelspec": {
   "display_name": "Python 3.7.0 64-bit (system)",
   "name": "python3"
  },
  "language_info": {
   "codemirror_mode": {
    "name": "ipython",
    "version": 3
   },
   "file_extension": ".py",
   "mimetype": "text/x-python",
   "name": "python",
   "nbconvert_exporter": "python",
   "pygments_lexer": "ipython3",
   "version": "3.7.0"
  },
  "toc": {
   "base_numbering": 1,
   "nav_menu": {},
   "number_sections": true,
   "sideBar": true,
   "skip_h1_title": false,
   "title_cell": "Table of Contents",
   "title_sidebar": "Contents",
   "toc_cell": false,
   "toc_position": {},
   "toc_section_display": true,
   "toc_window_display": false
  },
  "varInspector": {
   "cols": {
    "lenName": 16,
    "lenType": 16,
    "lenVar": 40
   },
   "kernels_config": {
    "python": {
     "delete_cmd_postfix": "",
     "delete_cmd_prefix": "del ",
     "library": "var_list.py",
     "varRefreshCmd": "print(var_dic_list())"
    },
    "r": {
     "delete_cmd_postfix": ") ",
     "delete_cmd_prefix": "rm(",
     "library": "var_list.r",
     "varRefreshCmd": "cat(var_dic_list()) "
    }
   },
   "types_to_exclude": [
    "module",
    "function",
    "builtin_function_or_method",
    "instance",
    "_Feature"
   ],
   "window_display": false
  }
 },
 "nbformat": 4,
 "nbformat_minor": 2
}
