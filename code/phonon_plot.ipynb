{
 "cells": [
  {
   "cell_type": "code",
   "execution_count": 52,
   "metadata": {
    "ExecuteTime": {
     "end_time": "2022-09-13T09:31:31.489623Z",
     "start_time": "2022-09-13T09:31:31.474622Z"
    }
   },
   "outputs": [],
   "source": [
    "import numpy as np\n",
    "import matplotlib.pyplot as plt\n",
    "from matplotlib import gridspec\n",
    "import matplotlib as mpl\n",
    "import matplotlib.ticker as tck\n",
    "import yaml"
   ]
  },
  {
   "cell_type": "code",
   "execution_count": 3,
   "metadata": {
    "ExecuteTime": {
     "end_time": "2022-09-12T03:59:37.320905Z",
     "start_time": "2022-09-12T03:59:37.299909Z"
    }
   },
   "outputs": [],
   "source": [
    "class phon_yaml(object):\n",
    "    def __init__(self, address,labels):\n",
    "        self.address = address\n",
    "        with open(address+\"band.yaml\", \"r\") as f:\n",
    "            file = f.read()\n",
    "        F = yaml.load(file)\n",
    "        F_phon = F['phonon']\n",
    "        length = len(F_phon)\n",
    "        self.distance = np.zeros(length)\n",
    "        self.q_position = np.zeros((length, 3))\n",
    "        self.frequency = np.zeros((length, len(F_phon[0][\"band\"])))\n",
    "        for i in range(length):\n",
    "            self.distance[i] = F_phon[i][\"distance\"]\n",
    "            self.q_position[i, :] = F_phon[i][\"q-position\"]\n",
    "            self.frequency[i, :] = [one_band[\"frequency\"]\n",
    "                                    for one_band in F_phon[i][\"band\"]]\n",
    "        self.labels = labels\n",
    "\n",
    "    def label2index(self):\n",
    "        index = [int(i) for i in np.linspace(0, len(self.frequency[:, 0]),\n",
    "                                             len(self.labels))]\n",
    "        index[-1] = index[-1]-1\n",
    "        return index\n",
    "\n",
    "    def phon_plot(self):\n",
    "        plt.figure(figsize=figsize)\n",
    "        plt.plot(self.distance, self.frequency, \"k\")\n",
    "        for n in self.distance[self.label2index()]:\n",
    "            plt.axvline(n,c='k',ls='-.',lw=0.6*linewidth)\n",
    "        plt.xticks(self.distance[self.label2index()], self.labels)\n",
    "        plt.xlim([self.distance[0],self.distance[-1]])\n",
    "        plt.axhline(0,c='y',ls='--')\n",
    "        plt.ylabel(\"Frequency(THz)\", fontdict=fonts)\n",
    "        ax.yaxis.set_minor_locator(tck.AutoMinorLocator())"
   ]
  },
  {
   "cell_type": "markdown",
   "metadata": {},
   "source": [
    "### read band.yaml"
   ]
  },
  {
   "cell_type": "code",
   "execution_count": 53,
   "metadata": {
    "ExecuteTime": {
     "end_time": "2022-09-13T09:31:41.787092Z",
     "start_time": "2022-09-13T09:31:34.919568Z"
    }
   },
   "outputs": [
    {
     "name": "stderr",
     "output_type": "stream",
     "text": [
      "c:\\users\\陆雨航\\appdata\\local\\programs\\python\\python37\\lib\\site-packages\\ipykernel_launcher.py:4: YAMLLoadWarning: calling yaml.load() without Loader=... is deprecated, as the default Loader is unsafe. Please read https://msg.pyyaml.org/load for full details.\n",
      "  after removing the cwd from sys.path.\n"
     ]
    }
   ],
   "source": [
    "address=''\n",
    "with open(address+\"band.yaml\", \"r\") as f:\n",
    "    file = f.read()\n",
    "F = yaml.load(file)"
   ]
  },
  {
   "cell_type": "markdown",
   "metadata": {},
   "source": [
    "### frenquency and distance"
   ]
  },
  {
   "cell_type": "code",
   "execution_count": 72,
   "metadata": {
    "ExecuteTime": {
     "end_time": "2022-09-13T09:50:46.569694Z",
     "start_time": "2022-09-13T09:50:46.557730Z"
    },
    "scrolled": true
   },
   "outputs": [],
   "source": [
    "F_phon = F['phonon']\n",
    "length = len(F_phon)\n",
    "distance = np.zeros(length)\n",
    "frequency = np.zeros((length, len(F_phon[0][\"band\"])))\n",
    "for i in range(length):\n",
    "    distance[i] = F_phon[i][\"distance\"]\n",
    "    frequency[i, :] = [one_band[\"frequency\"] for one_band in F_phon[i][\"band\"]]\n",
    "frequency.sort(axis=1)"
   ]
  },
  {
   "cell_type": "markdown",
   "metadata": {},
   "source": [
    "### Kpoints and kpath"
   ]
  },
  {
   "cell_type": "code",
   "execution_count": 55,
   "metadata": {
    "ExecuteTime": {
     "end_time": "2022-09-13T09:31:42.196847Z",
     "start_time": "2022-09-13T09:31:42.182690Z"
    }
   },
   "outputs": [
    {
     "data": {
      "text/plain": [
       "['$\\\\Gamma$', 'X', 'U$|$K', '$\\\\Gamma$', 'X', 'W', 'L']"
      ]
     },
     "execution_count": 55,
     "metadata": {},
     "output_type": "execute_result"
    }
   ],
   "source": [
    "npath=F['npath']\n",
    "klabel=[]\n",
    "#symbol=[*i for i in F['labels']]\n",
    "for i in range(len(F['labels'])):\n",
    "    if i==0:\n",
    "        klabel.append(F['labels'][0][0])\n",
    "    else:\n",
    "        if F['labels'][i][0]==F['labels'][i-1][1]:\n",
    "            klabel.append(F['labels'][i][0])\n",
    "        else:\n",
    "            klabel.append(F['labels'][i-1][1]+\"$|$\"+F['labels'][i][0])\n",
    "klabel.append(F['labels'][-1][1])\n",
    "klabel"
   ]
  },
  {
   "cell_type": "code",
   "execution_count": 56,
   "metadata": {
    "ExecuteTime": {
     "end_time": "2022-09-13T09:31:43.234587Z",
     "start_time": "2022-09-13T09:31:43.217300Z"
    }
   },
   "outputs": [],
   "source": [
    "xtick_index=list(range(0,len(distance),int(len(distance)/npath)))\n",
    "xtick_index.append(len(distance)-1)\n",
    "xtick=distance[xtick_index]"
   ]
  },
  {
   "cell_type": "markdown",
   "metadata": {},
   "source": [
    "### read DOS and process"
   ]
  },
  {
   "cell_type": "code",
   "execution_count": 7,
   "metadata": {
    "ExecuteTime": {
     "end_time": "2022-09-12T02:39:20.414145Z",
     "start_time": "2022-09-12T02:39:20.393155Z"
    }
   },
   "outputs": [],
   "source": [
    "containing_folder = \"\"\n",
    "with open(containing_folder+'DOSCAR', 'r') as f:\n",
    "    s = f.readlines()[6:]"
   ]
  },
  {
   "cell_type": "code",
   "execution_count": 8,
   "metadata": {
    "ExecuteTime": {
     "end_time": "2022-09-12T02:39:20.824032Z",
     "start_time": "2022-09-12T02:39:20.803889Z"
    }
   },
   "outputs": [],
   "source": [
    "DOS_matrix = []\n",
    "for i in s:\n",
    "    DOS_matrix.append([float(j) for j in i.rstrip().split()])\n",
    "energy = np.array([DOS_matrix[i][0] for i in range(len(DOS_matrix))])\n",
    "DOS = np.array([DOS_matrix[i][1] for i in range(len(DOS_matrix))])\n",
    "integral_DOS = np.array([DOS_matrix[i][2] for i in range(len(DOS_matrix))])"
   ]
  },
  {
   "cell_type": "markdown",
   "metadata": {},
   "source": [
    "### plot band structure and DOS"
   ]
  },
  {
   "cell_type": "code",
   "execution_count": 57,
   "metadata": {
    "ExecuteTime": {
     "end_time": "2022-09-13T09:31:50.013759Z",
     "start_time": "2022-09-13T09:31:49.994761Z"
    }
   },
   "outputs": [],
   "source": [
    "fontsize = 10\n",
    "fonts = {'family': 'Times New Roman', 'size': fontsize}\n",
    "linewidth = 0.5\n",
    "figsize=(3.149606,1.574803)\n",
    "plt.rcParams['lines.linewidth']=linewidth\n",
    "plt.rcParams['axes.linewidth']=linewidth\n",
    "plt.rcParams['font.family']=fonts['family']\n",
    "plt.rcParams['font.size']=fonts['size']\n",
    "plt.rcParams['text.usetex']='True'\n",
    "plt.rcParams['xtick.labelsize']=fontsize\n",
    "plt.rcParams['ytick.labelsize']=fontsize\n",
    "plt.rcParams['xtick.major.width']=linewidth\n",
    "plt.rcParams['ytick.major.width']=linewidth\n",
    "plt.rcParams['xtick.minor.width']=linewidth\n",
    "plt.rcParams['ytick.minor.width']=linewidth\n",
    "plt.rcParams['xtick.direction'] = 'in'\n",
    "plt.rcParams['ytick.direction'] = 'in'\n",
    "ylimit=[-4,4]"
   ]
  },
  {
   "cell_type": "code",
   "execution_count": 73,
   "metadata": {
    "ExecuteTime": {
     "end_time": "2022-09-13T09:50:56.821271Z",
     "start_time": "2022-09-13T09:50:56.636004Z"
    }
   },
   "outputs": [
    {
     "data": {
      "image/png": "[encoded data removed]",
      "text/plain": [
       "<Figure size 226.772x113.386 with 1 Axes>"
      ]
     },
     "metadata": {
      "needs_background": "light"
     },
     "output_type": "display_data"
    }
   ],
   "source": [
    "fig= plt.figure(figsize=figsize)\n",
    "ax=plt.gca()\n",
    "plt.plot(distance,frequency, \"k\")\n",
    "plt.tick_params(top='on', right='on', which='both')\n",
    "ax.yaxis.set_minor_locator(tck.AutoMinorLocator())\n",
    "for i in xtick:\n",
    "    plt.axvline(i,c='k',ls='-.',lw=0.6*linewidth)\n",
    "plt.xticks(xtick, klabel)\n",
    "plt.xlim([distance[0],distance[-1]])\n",
    "plt.axhline(0,c='y',ls='--')\n",
    "plt.ylabel(\"Frequency(THz)\")\n",
    "plt.tight_layout()"
   ]
  },
  {
   "cell_type": "code",
   "execution_count": 74,
   "metadata": {
    "ExecuteTime": {
     "end_time": "2022-09-13T09:51:07.037012Z",
     "start_time": "2022-09-13T09:51:06.933055Z"
    }
   },
   "outputs": [],
   "source": [
    "fig.savefig(containing_folder+'phonon.jpg', dpi=600)"
   ]
  }
 ],
 "metadata": {
  "interpreter": {
   "hash": "efc5d5b2cb0e54c1b473a14c28e2362fa72069a7376638f5f5d8900d77ac6ce3"
  },
  "kernelspec": {
   "display_name": "Python 3 (ipykernel)",
   "language": "python",
   "name": "python3"
  },
  "language_info": {
   "codemirror_mode": {
    "name": "ipython",
    "version": 3
   },
   "file_extension": ".py",
   "mimetype": "text/x-python",
   "name": "python",
   "nbconvert_exporter": "python",
   "pygments_lexer": "ipython3",
   "version": "3.7.0"
  },
  "toc": {
   "base_numbering": 1,
   "nav_menu": {
    "height": "187px",
    "width": "302px"
   },
   "number_sections": true,
   "sideBar": true,
   "skip_h1_title": false,
   "title_cell": "Table of Contents",
   "title_sidebar": "Contents",
   "toc_cell": false,
   "toc_position": {},
   "toc_section_display": true,
   "toc_window_display": true
  },
  "varInspector": {
   "cols": {
    "lenName": 16,
    "lenType": 16,
    "lenVar": 40
   },
   "kernels_config": {
    "python": {
     "delete_cmd_postfix": "",
     "delete_cmd_prefix": "del ",
     "library": "var_list.py",
     "varRefreshCmd": "print(var_dic_list())"
    },
    "r": {
     "delete_cmd_postfix": ") ",
     "delete_cmd_prefix": "rm(",
     "library": "var_list.r",
     "varRefreshCmd": "cat(var_dic_list()) "
    }
   },
   "oldHeight": 280.85,
   "position": {
    "height": "302.85px",
    "left": "326.6px",
    "right": "20px",
    "top": "1.00001px",
    "width": "482px"
   },
   "types_to_exclude": [
    "module",
    "function",
    "builtin_function_or_method",
    "instance",
    "_Feature"
   ],
   "varInspector_section_display": "block",
   "window_display": false
  }
 },
 "nbformat": 4,
 "nbformat_minor": 2
}
