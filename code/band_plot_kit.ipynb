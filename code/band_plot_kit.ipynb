{
 "cells": [
  {
   "cell_type": "code",
   "execution_count": 14,
   "metadata": {
    "ExecuteTime": {
     "end_time": "2022-09-22T11:33:38.306384Z",
     "start_time": "2022-09-22T11:33:38.296386Z"
    }
   },
   "outputs": [],
   "source": [
    "import numpy as np\n",
    "import matplotlib.pyplot as plt\n",
    "from matplotlib import gridspec\n",
    "import matplotlib as mpl\n",
    "import matplotlib.ticker as tck"
   ]
  },
  {
   "cell_type": "markdown",
   "metadata": {},
   "source": [
    "### read band and process"
   ]
  },
  {
   "cell_type": "code",
   "execution_count": 15,
   "metadata": {
    "ExecuteTime": {
     "end_time": "2022-09-22T11:33:39.151808Z",
     "start_time": "2022-09-22T11:33:39.146856Z"
    }
   },
   "outputs": [],
   "source": [
    "containing_folder = \"\"\n",
    "with open(containing_folder+'REFORMATTED_BAND.dat', 'r') as f:\n",
    "    s = f.read().rstrip()"
   ]
  },
  {
   "cell_type": "code",
   "execution_count": 16,
   "metadata": {
    "ExecuteTime": {
     "end_time": "2022-09-22T11:33:39.575746Z",
     "start_time": "2022-09-22T11:33:39.554703Z"
    }
   },
   "outputs": [],
   "source": [
    "s_split = s.split('\\n')[1:]\n",
    "band_matrix = []\n",
    "for i in s_split:\n",
    "    band_matrix.append([float(j) for j in i.split()])\n",
    "k_path = np.array([band_matrix[i][0] for i in range(len(band_matrix))])\n",
    "band = np.zeros((len(k_path), len(band_matrix[0])-1))\n",
    "for i in range(len(k_path)):\n",
    "    band[i, :] = band_matrix[i][1:]"
   ]
  },
  {
   "cell_type": "markdown",
   "metadata": {},
   "source": [
    "### read Kpoints and convert"
   ]
  },
  {
   "cell_type": "code",
   "execution_count": 17,
   "metadata": {
    "ExecuteTime": {
     "end_time": "2022-09-22T11:33:40.371448Z",
     "start_time": "2022-09-22T11:33:40.361451Z"
    }
   },
   "outputs": [],
   "source": [
    "containing_folder = \"\"\n",
    "with open(containing_folder+'KPOINTS', 'r') as f:\n",
    "    s = f.readlines()\n",
    "intersection=int(s[1].split()[0])\n",
    "\n",
    "line_index=3\n",
    "symbol=[]\n",
    "while(True):\n",
    "    line_index+=1\n",
    "    if line_index>=len(s):\n",
    "        break\n",
    "    if s[line_index]=='\\n':\n",
    "        continue\n",
    "    symbol.append(s[line_index].split()[4].rstrip())"
   ]
  },
  {
   "cell_type": "code",
   "execution_count": 18,
   "metadata": {
    "ExecuteTime": {
     "end_time": "2022-09-22T11:33:40.778952Z",
     "start_time": "2022-09-22T11:33:40.773957Z"
    }
   },
   "outputs": [],
   "source": [
    "for i in range(len(symbol)):\n",
    "    if symbol[i]=='GAMMA':\n",
    "        symbol[i]='$\\Gamma$'\n",
    "# only gamma use \\ and $ to output with latex"
   ]
  },
  {
   "cell_type": "code",
   "execution_count": 19,
   "metadata": {
    "ExecuteTime": {
     "end_time": "2022-09-22T11:33:41.171647Z",
     "start_time": "2022-09-22T11:33:41.154659Z"
    }
   },
   "outputs": [],
   "source": [
    "xtick_index=list(range(0,len(k_path),intersection))\n",
    "xtick_index.append(len(k_path)-1)\n",
    "xtick=k_path[xtick_index]\n",
    "\n",
    "# this paragraph can't be changed, most letters don't use $ \n",
    "# because it would make letter italic\n",
    "klabel=[]\n",
    "for i in range(int(len(symbol)/2)):\n",
    "    if i==0:\n",
    "        klabel.append(symbol[0])\n",
    "    elif symbol[2*i-1]!=symbol[2*i]:\n",
    "        klabel.append(symbol[2*i-1]+'$|$'+symbol[2*i])\n",
    "        # use $|$ instead of | because | was output to -, and I don't know why\n",
    "    elif symbol[2*i-1]==symbol[2*i]:\n",
    "        klabel.append(symbol[2*i])\n",
    "klabel.append(symbol[-1])"
   ]
  },
  {
   "cell_type": "markdown",
   "metadata": {},
   "source": [
    "### read DOS and process"
   ]
  },
  {
   "cell_type": "code",
   "execution_count": 28,
   "metadata": {
    "ExecuteTime": {
     "end_time": "2022-09-22T11:36:19.619464Z",
     "start_time": "2022-09-22T11:36:19.607468Z"
    }
   },
   "outputs": [],
   "source": [
    "containing_folder = \"\"\n",
    "with open(containing_folder+'DOSCAR', 'r') as f:\n",
    "    s = f.readlines()[6:]"
   ]
  },
  {
   "cell_type": "code",
   "execution_count": 29,
   "metadata": {
    "ExecuteTime": {
     "end_time": "2022-09-22T11:36:20.213213Z",
     "start_time": "2022-09-22T11:36:20.182518Z"
    }
   },
   "outputs": [],
   "source": [
    "DOS_matrix = []\n",
    "for i in s:\n",
    "    DOS_matrix.append([float(j) for j in i.rstrip().split()])\n",
    "energy = np.array([DOS_matrix[i][0] for i in range(len(DOS_matrix))])\n",
    "DOS = np.array([DOS_matrix[i][1] for i in range(len(DOS_matrix))])\n",
    "integral_DOS = np.array([DOS_matrix[i][2] for i in range(len(DOS_matrix))])"
   ]
  },
  {
   "cell_type": "markdown",
   "metadata": {},
   "source": [
    "### read fermi energy and correct"
   ]
  },
  {
   "cell_type": "code",
   "execution_count": 30,
   "metadata": {
    "ExecuteTime": {
     "end_time": "2022-09-22T11:36:35.858680Z",
     "start_time": "2022-09-22T11:36:35.844680Z"
    }
   },
   "outputs": [],
   "source": [
    "# correct DOS energy only\n",
    "containing_folder = \"\"\n",
    "with open(containing_folder+'FERMI_ENERGY', 'r') as f:\n",
    "    s = f.readlines()[1]\n",
    "fermi_energy = float(s.split()[0])"
   ]
  },
  {
   "cell_type": "code",
   "execution_count": 31,
   "metadata": {
    "ExecuteTime": {
     "end_time": "2022-09-22T11:36:36.325078Z",
     "start_time": "2022-09-22T11:36:36.308854Z"
    }
   },
   "outputs": [],
   "source": [
    "E=energy-fermi_energy"
   ]
  },
  {
   "cell_type": "markdown",
   "metadata": {},
   "source": [
    "### plot band structure and DOS"
   ]
  },
  {
   "cell_type": "code",
   "execution_count": 34,
   "metadata": {
    "ExecuteTime": {
     "end_time": "2022-09-22T11:37:47.439153Z",
     "start_time": "2022-09-22T11:37:47.422152Z"
    }
   },
   "outputs": [],
   "source": [
    "fontsize = 10\n",
    "fonts = {'family': 'Times New Roman', 'size': fontsize}\n",
    "linewidth = 0.5\n",
    "figsize=(3.149606,1.574803)\n",
    "plt.rcParams['lines.linewidth']=linewidth\n",
    "plt.rcParams['axes.linewidth']=linewidth\n",
    "plt.rcParams['font.family']=fonts['family']\n",
    "plt.rcParams['font.size']=fonts['size']\n",
    "plt.rcParams['text.usetex']='True'\n",
    "plt.rcParams['xtick.labelsize']=fontsize\n",
    "plt.rcParams['ytick.labelsize']=fontsize\n",
    "plt.rcParams['xtick.major.width']=linewidth\n",
    "plt.rcParams['ytick.major.width']=linewidth\n",
    "plt.rcParams['xtick.minor.width']=linewidth\n",
    "plt.rcParams['ytick.minor.width']=linewidth\n",
    "plt.rcParams['xtick.direction'] = 'in'\n",
    "plt.rcParams['ytick.direction'] = 'in'\n",
    "ylimit=[-14,10]"
   ]
  },
  {
   "cell_type": "code",
   "execution_count": 35,
   "metadata": {
    "ExecuteTime": {
     "end_time": "2022-09-22T11:37:48.685555Z",
     "start_time": "2022-09-22T11:37:48.667517Z"
    }
   },
   "outputs": [
    {
     "data": {
      "text/plain": [
       "array([0.    , 1.1494, 1.5557, 2.7748, 3.7702, 4.5829, 5.1576])"
      ]
     },
     "execution_count": 35,
     "metadata": {},
     "output_type": "execute_result"
    }
   ],
   "source": [
    "xtick"
   ]
  },
  {
   "cell_type": "code",
   "execution_count": 36,
   "metadata": {
    "ExecuteTime": {
     "end_time": "2022-09-22T11:37:51.597515Z",
     "start_time": "2022-09-22T11:37:49.400373Z"
    }
   },
   "outputs": [
    {
     "data": {
      "image/png": "[encoded data removed]",
      "text/plain": [
       "<Figure size 226.772x113.386 with 2 Axes>"
      ]
     },
     "metadata": {
      "needs_background": "light"
     },
     "output_type": "display_data"
    }
   ],
   "source": [
    "fig = plt.figure(figsize=figsize)\n",
    "spec = gridspec.GridSpec(ncols=2, nrows=1,\n",
    "                         width_ratios=[3, 1])\n",
    "\n",
    "ax0 = fig.add_subplot(spec[0])\n",
    "ax0.plot(k_path,band,'k')\n",
    "\n",
    "ax0.set_ylabel(r'$E-E_f\\rm/eV$')\n",
    "ax0.set_ylim(ylimit)\n",
    "ax0.set_xlim([k_path[0],k_path[-1]])\n",
    "ax0.yaxis.set_minor_locator(tck.AutoMinorLocator())\n",
    "plt.tick_params(top='on', right='on', which='both')\n",
    "plt.xticks(xtick,klabel,fontproperties=fonts)\n",
    "ax0.hlines(0,k_path[0],k_path[-1],'y',linestyles='--')\n",
    "ax0.vlines(xtick,*ylimit,colors='k',linestyles='-.',linewidth=0.6*linewidth)\n",
    "\n",
    "ax1 = fig.add_subplot(spec[1])\n",
    "ax1.plot(DOS, E,'k')\n",
    "ax1.set_xlabel('DOS/A.U.')\n",
    "ax1.set_yticklabels([])\n",
    "ax1.set_xlim(left=0)\n",
    "ax1.set_ylim(ylimit)\n",
    "ax1.yaxis.set_minor_locator(tck.AutoMinorLocator())\n",
    "ax1.xaxis.set_minor_locator(tck.AutoMinorLocator())\n",
    "plt.tick_params(top='on', right='on', which='both')\n",
    "plt.tight_layout()"
   ]
  },
  {
   "cell_type": "code",
   "execution_count": 37,
   "metadata": {
    "ExecuteTime": {
     "end_time": "2022-09-22T11:39:53.236795Z",
     "start_time": "2022-09-22T11:39:52.702066Z"
    }
   },
   "outputs": [],
   "source": [
    "fig.savefig(containing_folder+'band.jpg', dpi=600)"
   ]
  }
 ],
 "metadata": {
  "interpreter": {
   "hash": "efc5d5b2cb0e54c1b473a14c28e2362fa72069a7376638f5f5d8900d77ac6ce3"
  },
  "kernelspec": {
   "display_name": "Python 3 (ipykernel)",
   "language": "python",
   "name": "python3"
  },
  "language_info": {
   "codemirror_mode": {
    "name": "ipython",
    "version": 3
   },
   "file_extension": ".py",
   "mimetype": "text/x-python",
   "name": "python",
   "nbconvert_exporter": "python",
   "pygments_lexer": "ipython3",
   "version": "3.7.0"
  },
  "toc": {
   "base_numbering": 1,
   "nav_menu": {
    "height": "50px",
    "width": "160px"
   },
   "number_sections": true,
   "sideBar": true,
   "skip_h1_title": false,
   "title_cell": "Table of Contents",
   "title_sidebar": "Contents",
   "toc_cell": false,
   "toc_position": {},
   "toc_section_display": true,
   "toc_window_display": true
  },
  "varInspector": {
   "cols": {
    "lenName": 16,
    "lenType": 16,
    "lenVar": 40
   },
   "kernels_config": {
    "python": {
     "delete_cmd_postfix": "",
     "delete_cmd_prefix": "del ",
     "library": "var_list.py",
     "varRefreshCmd": "print(var_dic_list())"
    },
    "r": {
     "delete_cmd_postfix": ") ",
     "delete_cmd_prefix": "rm(",
     "library": "var_list.r",
     "varRefreshCmd": "cat(var_dic_list()) "
    }
   },
   "oldHeight": 280.85,
   "position": {
    "height": "40px",
    "left": "326.6px",
    "right": "20px",
    "top": "1.00001px",
    "width": "482px"
   },
   "types_to_exclude": [
    "module",
    "function",
    "builtin_function_or_method",
    "instance",
    "_Feature"
   ],
   "varInspector_section_display": "none",
   "window_display": true
  }
 },
 "nbformat": 4,
 "nbformat_minor": 2
}
