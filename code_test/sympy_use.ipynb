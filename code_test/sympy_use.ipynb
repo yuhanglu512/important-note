{
 "cells": [
  {
   "cell_type": "code",
   "execution_count": 1,
   "id": "94a78187",
   "metadata": {
    "ExecuteTime": {
     "end_time": "2022-09-17T12:33:52.753602Z",
     "start_time": "2022-09-17T12:33:51.296103Z"
    }
   },
   "outputs": [],
   "source": [
    "import sympy as sp"
   ]
  },
  {
   "cell_type": "code",
   "execution_count": 5,
   "id": "a7d76ff6",
   "metadata": {
    "ExecuteTime": {
     "end_time": "2022-09-17T12:37:26.428830Z",
     "start_time": "2022-09-17T12:37:26.410788Z"
    }
   },
   "outputs": [],
   "source": [
    "x1,x2,x3=sp.symbols('x_1:4')"
   ]
  },
  {
   "cell_type": "code",
   "execution_count": 6,
   "id": "64782e4e",
   "metadata": {
    "ExecuteTime": {
     "end_time": "2022-09-17T12:37:31.633501Z",
     "start_time": "2022-09-17T12:37:31.613494Z"
    }
   },
   "outputs": [
    {
     "data": {
      "text/latex": [
       "$\\displaystyle x_{2}$"
      ],
      "text/plain": [
       "x_2"
      ]
     },
     "execution_count": 6,
     "metadata": {},
     "output_type": "execute_result"
    }
   ],
   "source": [
    "x2"
   ]
  },
  {
   "cell_type": "code",
   "execution_count": 10,
   "id": "d67b4fb4",
   "metadata": {
    "ExecuteTime": {
     "end_time": "2022-09-17T12:40:51.334880Z",
     "start_time": "2022-09-17T12:40:51.306844Z"
    }
   },
   "outputs": [
    {
     "data": {
      "text/plain": [
       "[-sqrt(x_1*x_3), sqrt(x_1*x_3)]"
      ]
     },
     "execution_count": 10,
     "metadata": {},
     "output_type": "execute_result"
    }
   ],
   "source": [
    "s=sp.solve(x2**2-x1*x3,x2)\n",
    "s"
   ]
  },
  {
   "cell_type": "code",
   "execution_count": 12,
   "id": "91c773d4",
   "metadata": {
    "ExecuteTime": {
     "end_time": "2022-09-17T12:42:43.508455Z",
     "start_time": "2022-09-17T12:42:43.488440Z"
    }
   },
   "outputs": [],
   "source": [
    "f=sp.lambdify([x1,x3],s)"
   ]
  },
  {
   "cell_type": "code",
   "execution_count": 13,
   "id": "2b2f701e",
   "metadata": {
    "ExecuteTime": {
     "end_time": "2022-09-17T12:42:59.961330Z",
     "start_time": "2022-09-17T12:42:59.942333Z"
    }
   },
   "outputs": [
    {
     "data": {
      "text/plain": [
       "[-2.0, 2.0]"
      ]
     },
     "execution_count": 13,
     "metadata": {},
     "output_type": "execute_result"
    }
   ],
   "source": [
    "f(1, 4)"
   ]
  },
  {
   "cell_type": "code",
   "execution_count": 15,
   "id": "84e9c0fa",
   "metadata": {
    "ExecuteTime": {
     "end_time": "2022-09-17T12:59:39.115464Z",
     "start_time": "2022-09-17T12:59:39.103464Z"
    }
   },
   "outputs": [
    {
     "data": {
      "text/plain": [
       "(x, y)"
      ]
     },
     "execution_count": 15,
     "metadata": {},
     "output_type": "execute_result"
    }
   ],
   "source": [
    "sp.var('x,y')"
   ]
  },
  {
   "cell_type": "code",
   "execution_count": 18,
   "id": "2de66729",
   "metadata": {
    "ExecuteTime": {
     "end_time": "2022-09-17T13:02:25.040668Z",
     "start_time": "2022-09-17T13:02:25.029670Z"
    }
   },
   "outputs": [
    {
     "data": {
      "text/latex": [
       "$\\displaystyle x \\sin{\\left(y \\right)} + e^{y}$"
      ],
      "text/plain": [
       "x*sin(y) + exp(y)"
      ]
     },
     "execution_count": 18,
     "metadata": {},
     "output_type": "execute_result"
    }
   ],
   "source": [
    "f=sp.E**y+x*sp.sin(y)\n",
    "f"
   ]
  },
  {
   "cell_type": "code",
   "execution_count": 21,
   "id": "36f7a7e8",
   "metadata": {
    "ExecuteTime": {
     "end_time": "2022-09-17T13:04:55.998036Z",
     "start_time": "2022-09-17T13:04:55.980046Z"
    }
   },
   "outputs": [],
   "source": [
    "A=sp.lambdify([x,y],f,'numpy')"
   ]
  },
  {
   "cell_type": "code",
   "execution_count": 34,
   "id": "160e5e5f",
   "metadata": {
    "ExecuteTime": {
     "end_time": "2022-09-17T13:10:03.804509Z",
     "start_time": "2022-09-17T13:10:03.782558Z"
    }
   },
   "outputs": [
    {
     "ename": "TypeError",
     "evalue": "loop of ufunc does not support argument 0 of type Symbol which has no callable sin method",
     "output_type": "error",
     "traceback": [
      "\u001b[1;31m---------------------------------------------------------------------------\u001b[0m",
      "\u001b[1;31mAttributeError\u001b[0m                            Traceback (most recent call last)",
      "\u001b[1;31mAttributeError\u001b[0m: 'Symbol' object has no attribute 'sin'",
      "\nThe above exception was the direct cause of the following exception:\n",
      "\u001b[1;31mTypeError\u001b[0m                                 Traceback (most recent call last)",
      "\u001b[1;32mD:\\Temp/ipykernel_13848/3891181382.py\u001b[0m in \u001b[0;36m<module>\u001b[1;34m\u001b[0m\n\u001b[1;32m----> 1\u001b[1;33m \u001b[0mA\u001b[0m\u001b[1;33m(\u001b[0m\u001b[1;33m[\u001b[0m\u001b[1;36m1\u001b[0m\u001b[1;33m,\u001b[0m\u001b[1;36m2\u001b[0m\u001b[1;33m,\u001b[0m\u001b[1;36m3\u001b[0m\u001b[1;33m]\u001b[0m\u001b[1;33m,\u001b[0m\u001b[0my\u001b[0m\u001b[1;33m)\u001b[0m\u001b[1;33m\u001b[0m\u001b[0m\n\u001b[0m",
      "\u001b[1;32m<lambdifygenerated-4>\u001b[0m in \u001b[0;36m_lambdifygenerated\u001b[1;34m(x, y)\u001b[0m\n\u001b[0;32m      1\u001b[0m \u001b[1;32mdef\u001b[0m \u001b[0m_lambdifygenerated\u001b[0m\u001b[1;33m(\u001b[0m\u001b[0mx\u001b[0m\u001b[1;33m,\u001b[0m \u001b[0my\u001b[0m\u001b[1;33m)\u001b[0m\u001b[1;33m:\u001b[0m\u001b[1;33m\u001b[0m\u001b[0m\n\u001b[1;32m----> 2\u001b[1;33m     \u001b[1;32mreturn\u001b[0m \u001b[0mx\u001b[0m\u001b[1;33m*\u001b[0m\u001b[0msin\u001b[0m\u001b[1;33m(\u001b[0m\u001b[0my\u001b[0m\u001b[1;33m)\u001b[0m \u001b[1;33m+\u001b[0m \u001b[0mexp\u001b[0m\u001b[1;33m(\u001b[0m\u001b[0my\u001b[0m\u001b[1;33m)\u001b[0m\u001b[1;33m\u001b[0m\u001b[0m\n\u001b[0m",
      "\u001b[1;31mTypeError\u001b[0m: loop of ufunc does not support argument 0 of type Symbol which has no callable sin method"
     ]
    }
   ],
   "source": [
    "A([1,2,3],y)"
   ]
  },
  {
   "cell_type": "code",
   "execution_count": 31,
   "id": "7f7a36cf",
   "metadata": {
    "ExecuteTime": {
     "end_time": "2022-09-17T13:09:19.183697Z",
     "start_time": "2022-09-17T13:09:19.171699Z"
    }
   },
   "outputs": [
    {
     "data": {
      "text/plain": [
       "array([0.841470984807897*y + 2.71828182845905,\n",
       "       0.909297426825682*y + 7.38905609893065,\n",
       "       0.141120008059867*y + 20.0855369231877], dtype=object)"
      ]
     },
     "execution_count": 31,
     "metadata": {},
     "output_type": "execute_result"
    }
   ],
   "source": [
    "A(y,[1,2,3])"
   ]
  },
  {
   "cell_type": "code",
   "execution_count": 2,
   "id": "2c85e956",
   "metadata": {
    "ExecuteTime": {
     "end_time": "2022-09-15T13:18:32.116401Z",
     "start_time": "2022-09-15T13:18:32.102719Z"
    }
   },
   "outputs": [],
   "source": [
    "r_1,r_2,n_1,n_2,n_0=sp.symbols('r_1,r_2,n_1,n_2,n_0')"
   ]
  },
  {
   "cell_type": "code",
   "execution_count": 3,
   "id": "26d1aa31",
   "metadata": {
    "ExecuteTime": {
     "end_time": "2022-09-15T13:18:32.494053Z",
     "start_time": "2022-09-15T13:18:32.133716Z"
    }
   },
   "outputs": [
    {
     "data": {
      "text/latex": [
       "$\\displaystyle \\frac{n_{1} - n_{2}}{n_{1} + n_{2}}$"
      ],
      "text/plain": [
       "(n_1 - n_2)/(n_1 + n_2)"
      ]
     },
     "execution_count": 3,
     "metadata": {},
     "output_type": "execute_result"
    }
   ],
   "source": [
    "r_1=((n_0-n_1)/(n_0+n_1))\n",
    "r_2=((n_1-n_2)/(n_1+n_2))\n",
    "r_2"
   ]
  },
  {
   "cell_type": "code",
   "execution_count": 4,
   "id": "07bba02b",
   "metadata": {
    "ExecuteTime": {
     "end_time": "2022-09-15T13:18:33.835619Z",
     "start_time": "2022-09-15T13:18:33.795624Z"
    }
   },
   "outputs": [
    {
     "data": {
      "text/latex": [
       "$\\displaystyle - \\frac{\\left(n_{0} - n_{1}\\right)^{2} \\left(n_{1} - n_{2}\\right)^{2}}{\\left(n_{0} + n_{1}\\right)^{2} \\left(n_{1} + n_{2}\\right)^{2}} + \\frac{\\left(n_{0} - n_{1}\\right)^{2}}{\\left(n_{0} + n_{1}\\right)^{2}} + \\frac{\\left(n_{1} - n_{2}\\right)^{2}}{\\left(n_{1} + n_{2}\\right)^{2}} - 1$"
      ],
      "text/plain": [
       "-(n_0 - n_1)**2*(n_1 - n_2)**2/((n_0 + n_1)**2*(n_1 + n_2)**2) + (n_0 - n_1)**2/(n_0 + n_1)**2 + (n_1 - n_2)**2/(n_1 + n_2)**2 - 1"
      ]
     },
     "execution_count": 4,
     "metadata": {},
     "output_type": "execute_result"
    }
   ],
   "source": [
    "expr=r_1**2+r_2**2-r_1**2*r_2**2-1\n",
    "expr"
   ]
  },
  {
   "cell_type": "code",
   "execution_count": 14,
   "id": "15d9f11e",
   "metadata": {
    "ExecuteTime": {
     "end_time": "2022-09-15T09:06:10.819835Z",
     "start_time": "2022-09-15T09:06:10.713496Z"
    }
   },
   "outputs": [
    {
     "data": {
      "text/plain": [
       "([n_1], {(0,)})"
      ]
     },
     "execution_count": 14,
     "metadata": {},
     "output_type": "execute_result"
    }
   ],
   "source": [
    "sp.solve(expr,n_1,set=True)"
   ]
  },
  {
   "cell_type": "code",
   "execution_count": 23,
   "id": "04350657",
   "metadata": {
    "ExecuteTime": {
     "end_time": "2022-09-17T08:41:29.028895Z",
     "start_time": "2022-09-17T08:41:29.007896Z"
    }
   },
   "outputs": [
    {
     "data": {
      "text/plain": [
       "(r, k, n, d)"
      ]
     },
     "execution_count": 23,
     "metadata": {},
     "output_type": "execute_result"
    }
   ],
   "source": [
    "r,k,n,d=sp.symbols('r,k,n,d',real=True)\n",
    "r,k,n,d"
   ]
  },
  {
   "cell_type": "code",
   "execution_count": 31,
   "id": "6d005ed1",
   "metadata": {
    "ExecuteTime": {
     "end_time": "2022-09-17T08:50:51.987827Z",
     "start_time": "2022-09-17T08:50:51.971830Z"
    }
   },
   "outputs": [],
   "source": [
    "r=(1-n)/(1+n)"
   ]
  },
  {
   "cell_type": "code",
   "execution_count": 24,
   "id": "8cdf8837",
   "metadata": {
    "ExecuteTime": {
     "end_time": "2022-09-17T08:41:30.163826Z",
     "start_time": "2022-09-17T08:41:30.145829Z"
    }
   },
   "outputs": [
    {
     "data": {
      "text/latex": [
       "$\\displaystyle \\lambda$"
      ],
      "text/plain": [
       "lamda"
      ]
     },
     "execution_count": 24,
     "metadata": {},
     "output_type": "execute_result"
    }
   ],
   "source": [
    "lamb=sp.Symbol(\"lamda\",real=True)\n",
    "lamb"
   ]
  },
  {
   "cell_type": "code",
   "execution_count": 25,
   "id": "9d5f6f43",
   "metadata": {
    "ExecuteTime": {
     "end_time": "2022-09-17T08:41:37.972141Z",
     "start_time": "2022-09-17T08:41:37.957141Z"
    }
   },
   "outputs": [
    {
     "data": {
      "text/latex": [
       "$\\displaystyle \\frac{2 \\pi}{\\lambda}$"
      ],
      "text/plain": [
       "2*pi/lamda"
      ]
     },
     "execution_count": 25,
     "metadata": {},
     "output_type": "execute_result"
    }
   ],
   "source": [
    "k=2*sp.pi/lamb\n",
    "k"
   ]
  },
  {
   "cell_type": "code",
   "execution_count": 46,
   "id": "0f662918",
   "metadata": {
    "ExecuteTime": {
     "end_time": "2022-09-17T08:58:49.405556Z",
     "start_time": "2022-09-17T08:58:49.381558Z"
    }
   },
   "outputs": [
    {
     "data": {
      "text/latex": [
       "$\\displaystyle \\frac{1.0 - e^{8866666.66666667 i \\pi d}}{1.0 - 0.020059 e^{8866666.66666667 i \\pi d}}$"
      ],
      "text/plain": [
       "(1.0 - exp(8866666.66666667*I*pi*d))/(1.0 - 0.020059*exp(8866666.66666667*I*pi*d))"
      ]
     },
     "execution_count": 46,
     "metadata": {},
     "output_type": "execute_result"
    }
   ],
   "source": [
    "A=(1-sp.exp(2*sp.I*k*n*d))/(1-r**2*sp.exp(2*sp.I*k*n*d))\n",
    "Real=A.evalf(n=5,subs={n:1.33,lamb:600*10**(-9)},chop=True)\n",
    "Real"
   ]
  },
  {
   "cell_type": "code",
   "execution_count": 47,
   "id": "aee10cb0",
   "metadata": {
    "ExecuteTime": {
     "end_time": "2022-09-17T08:58:53.133811Z",
     "start_time": "2022-09-17T08:58:53.049814Z"
    }
   },
   "outputs": [
    {
     "data": {
      "text/latex": [
       "$\\displaystyle \\frac{\\left(1.0 - \\cos{\\left(8866666.66666667 \\pi d \\right)}\\right) \\left(1.0 - 0.020059 \\cos{\\left(8866666.66666667 \\pi d \\right)}\\right)}{\\left(1.0 - 0.020059 \\cos{\\left(8866666.66666667 \\pi d \\right)}\\right)^{2} + 0.00040238 \\sin^{2}{\\left(8866666.66666667 \\pi d \\right)}} + \\frac{0.020059 \\sin^{2}{\\left(8866666.66666667 \\pi d \\right)}}{\\left(1.0 - 0.020059 \\cos{\\left(8866666.66666667 \\pi d \\right)}\\right)^{2} + 0.00040238 \\sin^{2}{\\left(8866666.66666667 \\pi d \\right)}}$"
      ],
      "text/plain": [
       "(1.0 - cos(8866666.66666667*pi*d))*(1.0 - 0.020059*cos(8866666.66666667*pi*d))/((1.0 - 0.020059*cos(8866666.66666667*pi*d))**2 + 0.00040238*sin(8866666.66666667*pi*d)**2) + 0.020059*sin(8866666.66666667*pi*d)**2/((1.0 - 0.020059*cos(8866666.66666667*pi*d))**2 + 0.00040238*sin(8866666.66666667*pi*d)**2)"
      ]
     },
     "execution_count": 47,
     "metadata": {},
     "output_type": "execute_result"
    }
   ],
   "source": [
    "sp.re(Real)"
   ]
  },
  {
   "cell_type": "code",
   "execution_count": 53,
   "id": "e4a84b3a",
   "metadata": {
    "ExecuteTime": {
     "end_time": "2022-09-17T09:02:36.908230Z",
     "start_time": "2022-09-17T09:01:23.686231Z"
    }
   },
   "outputs": [
    {
     "ename": "KeyboardInterrupt",
     "evalue": "",
     "output_type": "error",
     "traceback": [
      "\u001b[1;31m---------------------------------------------------------------------------\u001b[0m",
      "\u001b[1;31mKeyboardInterrupt\u001b[0m                         Traceback (most recent call last)",
      "\u001b[1;32mD:\\Temp/ipykernel_16264/152678028.py\u001b[0m in \u001b[0;36m<module>\u001b[1;34m\u001b[0m\n\u001b[1;32m----> 1\u001b[1;33m \u001b[0msp\u001b[0m\u001b[1;33m.\u001b[0m\u001b[0msolve\u001b[0m\u001b[1;33m(\u001b[0m\u001b[0msp\u001b[0m\u001b[1;33m.\u001b[0m\u001b[0mdiff\u001b[0m\u001b[1;33m(\u001b[0m\u001b[1;33m(\u001b[0m\u001b[0msp\u001b[0m\u001b[1;33m.\u001b[0m\u001b[0mim\u001b[0m\u001b[1;33m(\u001b[0m\u001b[0mReal\u001b[0m\u001b[1;33m)\u001b[0m\u001b[1;33m**\u001b[0m\u001b[1;36m2\u001b[0m\u001b[1;33m+\u001b[0m\u001b[0msp\u001b[0m\u001b[1;33m.\u001b[0m\u001b[0mre\u001b[0m\u001b[1;33m(\u001b[0m\u001b[0mReal\u001b[0m\u001b[1;33m)\u001b[0m\u001b[1;33m**\u001b[0m\u001b[1;36m2\u001b[0m\u001b[1;33m)\u001b[0m\u001b[1;33m.\u001b[0m\u001b[0msimplify\u001b[0m\u001b[1;33m(\u001b[0m\u001b[1;33m)\u001b[0m\u001b[1;33m,\u001b[0m\u001b[0md\u001b[0m\u001b[1;33m)\u001b[0m\u001b[1;33m,\u001b[0m\u001b[0md\u001b[0m\u001b[1;33m)\u001b[0m\u001b[1;33m\u001b[0m\u001b[0m\n\u001b[0m",
      "\u001b[1;32mc:\\users\\陆雨航\\appdata\\local\\programs\\python\\python37\\lib\\site-packages\\sympy\\solvers\\solvers.py\u001b[0m in \u001b[0;36msolve\u001b[1;34m(f, *symbols, **flags)\u001b[0m\n\u001b[0;32m   1104\u001b[0m     \u001b[1;31m###########################################################################\u001b[0m\u001b[1;33m\u001b[0m\u001b[1;33m\u001b[0m\u001b[0m\n\u001b[0;32m   1105\u001b[0m     \u001b[1;32mif\u001b[0m \u001b[0mbare_f\u001b[0m\u001b[1;33m:\u001b[0m\u001b[1;33m\u001b[0m\u001b[0m\n\u001b[1;32m-> 1106\u001b[1;33m         \u001b[0msolution\u001b[0m \u001b[1;33m=\u001b[0m \u001b[0m_solve\u001b[0m\u001b[1;33m(\u001b[0m\u001b[0mf\u001b[0m\u001b[1;33m[\u001b[0m\u001b[1;36m0\u001b[0m\u001b[1;33m]\u001b[0m\u001b[1;33m,\u001b[0m \u001b[1;33m*\u001b[0m\u001b[0msymbols\u001b[0m\u001b[1;33m,\u001b[0m \u001b[1;33m**\u001b[0m\u001b[0mflags\u001b[0m\u001b[1;33m)\u001b[0m\u001b[1;33m\u001b[0m\u001b[0m\n\u001b[0m\u001b[0;32m   1107\u001b[0m     \u001b[1;32melse\u001b[0m\u001b[1;33m:\u001b[0m\u001b[1;33m\u001b[0m\u001b[0m\n\u001b[0;32m   1108\u001b[0m         \u001b[0msolution\u001b[0m \u001b[1;33m=\u001b[0m \u001b[0m_solve_system\u001b[0m\u001b[1;33m(\u001b[0m\u001b[0mf\u001b[0m\u001b[1;33m,\u001b[0m \u001b[0msymbols\u001b[0m\u001b[1;33m,\u001b[0m \u001b[1;33m**\u001b[0m\u001b[0mflags\u001b[0m\u001b[1;33m)\u001b[0m\u001b[1;33m\u001b[0m\u001b[0m\n",
      "\u001b[1;32mc:\\users\\陆雨航\\appdata\\local\\programs\\python\\python37\\lib\\site-packages\\sympy\\solvers\\solvers.py\u001b[0m in \u001b[0;36m_solve\u001b[1;34m(f, *symbols, **flags)\u001b[0m\n\u001b[0;32m   1554\u001b[0m                         \u001b[1;31m# solutions in the un-rewritten form below\u001b[0m\u001b[1;33m\u001b[0m\u001b[1;33m\u001b[0m\u001b[0m\n\u001b[0;32m   1555\u001b[0m                         \u001b[0mflags\u001b[0m\u001b[1;33m[\u001b[0m\u001b[1;34m'check'\u001b[0m\u001b[1;33m]\u001b[0m \u001b[1;33m=\u001b[0m \u001b[1;32mFalse\u001b[0m\u001b[1;33m\u001b[0m\u001b[0m\n\u001b[1;32m-> 1556\u001b[1;33m                         \u001b[0mresult\u001b[0m \u001b[1;33m=\u001b[0m \u001b[0m_solve\u001b[0m\u001b[1;33m(\u001b[0m\u001b[0mnewf\u001b[0m\u001b[1;33m,\u001b[0m \u001b[0msymbol\u001b[0m\u001b[1;33m,\u001b[0m \u001b[1;33m**\u001b[0m\u001b[0mflags\u001b[0m\u001b[1;33m)\u001b[0m\u001b[1;33m\u001b[0m\u001b[0m\n\u001b[0m\u001b[0;32m   1557\u001b[0m                         \u001b[0mflags\u001b[0m\u001b[1;33m[\u001b[0m\u001b[1;34m'check'\u001b[0m\u001b[1;33m]\u001b[0m \u001b[1;33m=\u001b[0m \u001b[0mcheck\u001b[0m\u001b[1;33m\u001b[0m\u001b[0m\n\u001b[0;32m   1558\u001b[0m \u001b[1;33m\u001b[0m\u001b[0m\n",
      "\u001b[1;32mc:\\users\\陆雨航\\appdata\\local\\programs\\python\\python37\\lib\\site-packages\\sympy\\solvers\\solvers.py\u001b[0m in \u001b[0;36m_solve\u001b[1;34m(f, *symbols, **flags)\u001b[0m\n\u001b[0;32m   1710\u001b[0m         \u001b[0mflags\u001b[0m\u001b[1;33m.\u001b[0m\u001b[0mpop\u001b[0m\u001b[1;33m(\u001b[0m\u001b[1;34m'tsolve'\u001b[0m\u001b[1;33m,\u001b[0m \u001b[1;32mNone\u001b[0m\u001b[1;33m)\u001b[0m  \u001b[1;31m# allow tsolve to be used on next pass\u001b[0m\u001b[1;33m\u001b[0m\u001b[0m\n\u001b[0;32m   1711\u001b[0m         \u001b[1;32mtry\u001b[0m\u001b[1;33m:\u001b[0m\u001b[1;33m\u001b[0m\u001b[0m\n\u001b[1;32m-> 1712\u001b[1;33m             \u001b[0msoln\u001b[0m \u001b[1;33m=\u001b[0m \u001b[0m_tsolve\u001b[0m\u001b[1;33m(\u001b[0m\u001b[0mf_num\u001b[0m\u001b[1;33m,\u001b[0m \u001b[0msymbol\u001b[0m\u001b[1;33m,\u001b[0m \u001b[1;33m**\u001b[0m\u001b[0mflags\u001b[0m\u001b[1;33m)\u001b[0m\u001b[1;33m\u001b[0m\u001b[0m\n\u001b[0m\u001b[0;32m   1713\u001b[0m             \u001b[1;32mif\u001b[0m \u001b[0msoln\u001b[0m \u001b[1;32mis\u001b[0m \u001b[1;32mnot\u001b[0m \u001b[1;32mNone\u001b[0m\u001b[1;33m:\u001b[0m\u001b[1;33m\u001b[0m\u001b[0m\n\u001b[0;32m   1714\u001b[0m                 \u001b[0mresult\u001b[0m \u001b[1;33m=\u001b[0m \u001b[0msoln\u001b[0m\u001b[1;33m\u001b[0m\u001b[0m\n",
      "\u001b[1;32mc:\\users\\陆雨航\\appdata\\local\\programs\\python\\python37\\lib\\site-packages\\sympy\\solvers\\solvers.py\u001b[0m in \u001b[0;36m_tsolve\u001b[1;34m(eq, sym, **flags)\u001b[0m\n\u001b[0;32m   2564\u001b[0m             \u001b[0mf\u001b[0m \u001b[1;33m=\u001b[0m \u001b[0mfactor\u001b[0m\u001b[1;33m(\u001b[0m\u001b[0mpowdenest\u001b[0m\u001b[1;33m(\u001b[0m\u001b[0mlhs\u001b[0m \u001b[1;33m-\u001b[0m \u001b[0mrhs\u001b[0m\u001b[1;33m)\u001b[0m\u001b[1;33m)\u001b[0m\u001b[1;33m\u001b[0m\u001b[0m\n\u001b[0;32m   2565\u001b[0m             \u001b[1;32mif\u001b[0m \u001b[0mf\u001b[0m\u001b[1;33m.\u001b[0m\u001b[0mis_Mul\u001b[0m\u001b[1;33m:\u001b[0m\u001b[1;33m\u001b[0m\u001b[0m\n\u001b[1;32m-> 2566\u001b[1;33m                 \u001b[1;32mreturn\u001b[0m \u001b[0m_solve\u001b[0m\u001b[1;33m(\u001b[0m\u001b[0mf\u001b[0m\u001b[1;33m,\u001b[0m \u001b[0msym\u001b[0m\u001b[1;33m,\u001b[0m \u001b[1;33m**\u001b[0m\u001b[0mflags\u001b[0m\u001b[1;33m)\u001b[0m\u001b[1;33m\u001b[0m\u001b[0m\n\u001b[0m\u001b[0;32m   2567\u001b[0m             \u001b[1;32mif\u001b[0m \u001b[0mrhs\u001b[0m\u001b[1;33m:\u001b[0m\u001b[1;33m\u001b[0m\u001b[0m\n\u001b[0;32m   2568\u001b[0m                 \u001b[0mf\u001b[0m \u001b[1;33m=\u001b[0m \u001b[0mlogcombine\u001b[0m\u001b[1;33m(\u001b[0m\u001b[0mlhs\u001b[0m\u001b[1;33m,\u001b[0m \u001b[0mforce\u001b[0m\u001b[1;33m=\u001b[0m\u001b[0mflags\u001b[0m\u001b[1;33m.\u001b[0m\u001b[0mget\u001b[0m\u001b[1;33m(\u001b[0m\u001b[1;34m'force'\u001b[0m\u001b[1;33m,\u001b[0m \u001b[1;32mTrue\u001b[0m\u001b[1;33m)\u001b[0m\u001b[1;33m)\u001b[0m\u001b[1;33m\u001b[0m\u001b[0m\n",
      "\u001b[1;32mc:\\users\\陆雨航\\appdata\\local\\programs\\python\\python37\\lib\\site-packages\\sympy\\solvers\\solvers.py\u001b[0m in \u001b[0;36m_solve\u001b[1;34m(f, *symbols, **flags)\u001b[0m\n\u001b[0;32m   1392\u001b[0m                 \u001b[0mresult\u001b[0m \u001b[1;33m=\u001b[0m \u001b[0mset\u001b[0m\u001b[1;33m(\u001b[0m\u001b[1;33m)\u001b[0m\u001b[1;33m\u001b[0m\u001b[0m\n\u001b[0;32m   1393\u001b[0m                 \u001b[1;32mbreak\u001b[0m\u001b[1;33m\u001b[0m\u001b[0m\n\u001b[1;32m-> 1394\u001b[1;33m             \u001b[0msoln\u001b[0m \u001b[1;33m=\u001b[0m \u001b[0m_solve\u001b[0m\u001b[1;33m(\u001b[0m\u001b[0mm\u001b[0m\u001b[1;33m,\u001b[0m \u001b[0msymbol\u001b[0m\u001b[1;33m,\u001b[0m \u001b[1;33m**\u001b[0m\u001b[0mflags\u001b[0m\u001b[1;33m)\u001b[0m\u001b[1;33m\u001b[0m\u001b[0m\n\u001b[0m\u001b[0;32m   1395\u001b[0m             \u001b[0mresult\u001b[0m\u001b[1;33m.\u001b[0m\u001b[0mupdate\u001b[0m\u001b[1;33m(\u001b[0m\u001b[0mset\u001b[0m\u001b[1;33m(\u001b[0m\u001b[0msoln\u001b[0m\u001b[1;33m)\u001b[0m\u001b[1;33m)\u001b[0m\u001b[1;33m\u001b[0m\u001b[0m\n\u001b[0;32m   1396\u001b[0m         \u001b[0mresult\u001b[0m \u001b[1;33m=\u001b[0m \u001b[0mlist\u001b[0m\u001b[1;33m(\u001b[0m\u001b[0mresult\u001b[0m\u001b[1;33m)\u001b[0m\u001b[1;33m\u001b[0m\u001b[0m\n",
      "\u001b[1;32mc:\\users\\陆雨航\\appdata\\local\\programs\\python\\python37\\lib\\site-packages\\sympy\\solvers\\solvers.py\u001b[0m in \u001b[0;36m_solve\u001b[1;34m(f, *symbols, **flags)\u001b[0m\n\u001b[0;32m   1710\u001b[0m         \u001b[0mflags\u001b[0m\u001b[1;33m.\u001b[0m\u001b[0mpop\u001b[0m\u001b[1;33m(\u001b[0m\u001b[1;34m'tsolve'\u001b[0m\u001b[1;33m,\u001b[0m \u001b[1;32mNone\u001b[0m\u001b[1;33m)\u001b[0m  \u001b[1;31m# allow tsolve to be used on next pass\u001b[0m\u001b[1;33m\u001b[0m\u001b[0m\n\u001b[0;32m   1711\u001b[0m         \u001b[1;32mtry\u001b[0m\u001b[1;33m:\u001b[0m\u001b[1;33m\u001b[0m\u001b[0m\n\u001b[1;32m-> 1712\u001b[1;33m             \u001b[0msoln\u001b[0m \u001b[1;33m=\u001b[0m \u001b[0m_tsolve\u001b[0m\u001b[1;33m(\u001b[0m\u001b[0mf_num\u001b[0m\u001b[1;33m,\u001b[0m \u001b[0msymbol\u001b[0m\u001b[1;33m,\u001b[0m \u001b[1;33m**\u001b[0m\u001b[0mflags\u001b[0m\u001b[1;33m)\u001b[0m\u001b[1;33m\u001b[0m\u001b[0m\n\u001b[0m\u001b[0;32m   1713\u001b[0m             \u001b[1;32mif\u001b[0m \u001b[0msoln\u001b[0m \u001b[1;32mis\u001b[0m \u001b[1;32mnot\u001b[0m \u001b[1;32mNone\u001b[0m\u001b[1;33m:\u001b[0m\u001b[1;33m\u001b[0m\u001b[0m\n\u001b[0;32m   1714\u001b[0m                 \u001b[0mresult\u001b[0m \u001b[1;33m=\u001b[0m \u001b[0msoln\u001b[0m\u001b[1;33m\u001b[0m\u001b[0m\n",
      "\u001b[1;32mc:\\users\\陆雨航\\appdata\\local\\programs\\python\\python37\\lib\\site-packages\\sympy\\solvers\\solvers.py\u001b[0m in \u001b[0;36m_tsolve\u001b[1;34m(eq, sym, **flags)\u001b[0m\n\u001b[0;32m   2683\u001b[0m         \u001b[0mrewrite\u001b[0m \u001b[1;33m=\u001b[0m \u001b[0mlhs\u001b[0m\u001b[1;33m.\u001b[0m\u001b[0mrewrite\u001b[0m\u001b[1;33m(\u001b[0m\u001b[0mexp\u001b[0m\u001b[1;33m)\u001b[0m\u001b[1;33m\u001b[0m\u001b[0m\n\u001b[0;32m   2684\u001b[0m         \u001b[1;32mif\u001b[0m \u001b[0mrewrite\u001b[0m \u001b[1;33m!=\u001b[0m \u001b[0mlhs\u001b[0m\u001b[1;33m:\u001b[0m\u001b[1;33m\u001b[0m\u001b[0m\n\u001b[1;32m-> 2685\u001b[1;33m             \u001b[1;32mreturn\u001b[0m \u001b[0m_solve\u001b[0m\u001b[1;33m(\u001b[0m\u001b[0mrewrite\u001b[0m \u001b[1;33m-\u001b[0m \u001b[0mrhs\u001b[0m\u001b[1;33m,\u001b[0m \u001b[0msym\u001b[0m\u001b[1;33m,\u001b[0m \u001b[1;33m**\u001b[0m\u001b[0mflags\u001b[0m\u001b[1;33m)\u001b[0m\u001b[1;33m\u001b[0m\u001b[0m\n\u001b[0m\u001b[0;32m   2686\u001b[0m     \u001b[1;32mexcept\u001b[0m \u001b[0mNotImplementedError\u001b[0m\u001b[1;33m:\u001b[0m\u001b[1;33m\u001b[0m\u001b[0m\n\u001b[0;32m   2687\u001b[0m         \u001b[1;32mpass\u001b[0m\u001b[1;33m\u001b[0m\u001b[0m\n",
      "\u001b[1;32mc:\\users\\陆雨航\\appdata\\local\\programs\\python\\python37\\lib\\site-packages\\sympy\\solvers\\solvers.py\u001b[0m in \u001b[0;36m_solve\u001b[1;34m(f, *symbols, **flags)\u001b[0m\n\u001b[0;32m   1484\u001b[0m         \u001b[1;32mtry\u001b[0m\u001b[1;33m:\u001b[0m\u001b[1;33m\u001b[0m\u001b[0m\n\u001b[0;32m   1485\u001b[0m             \u001b[1;32mif\u001b[0m \u001b[0mpoly\u001b[0m \u001b[1;32mis\u001b[0m \u001b[1;32mNone\u001b[0m\u001b[1;33m:\u001b[0m\u001b[1;33m\u001b[0m\u001b[0m\n\u001b[1;32m-> 1486\u001b[1;33m                 \u001b[0mpoly\u001b[0m \u001b[1;33m=\u001b[0m \u001b[0mPoly\u001b[0m\u001b[1;33m(\u001b[0m\u001b[0mf_num\u001b[0m\u001b[1;33m)\u001b[0m\u001b[1;33m\u001b[0m\u001b[0m\n\u001b[0m\u001b[0;32m   1487\u001b[0m             \u001b[1;32mif\u001b[0m \u001b[0mpoly\u001b[0m \u001b[1;32mis\u001b[0m \u001b[1;32mNone\u001b[0m\u001b[1;33m:\u001b[0m\u001b[1;33m\u001b[0m\u001b[0m\n\u001b[0;32m   1488\u001b[0m                 \u001b[1;32mraise\u001b[0m \u001b[0mValueError\u001b[0m\u001b[1;33m(\u001b[0m\u001b[1;34m'could not convert %s to Poly'\u001b[0m \u001b[1;33m%\u001b[0m \u001b[0mf_num\u001b[0m\u001b[1;33m)\u001b[0m\u001b[1;33m\u001b[0m\u001b[0m\n",
      "\u001b[1;32mc:\\users\\陆雨航\\appdata\\local\\programs\\python\\python37\\lib\\site-packages\\sympy\\polys\\polytools.py\u001b[0m in \u001b[0;36m__new__\u001b[1;34m(cls, rep, *gens, **args)\u001b[0m\n\u001b[0;32m    179\u001b[0m                 \u001b[1;32mreturn\u001b[0m \u001b[0mcls\u001b[0m\u001b[1;33m.\u001b[0m\u001b[0m_from_poly\u001b[0m\u001b[1;33m(\u001b[0m\u001b[0mrep\u001b[0m\u001b[1;33m,\u001b[0m \u001b[0mopt\u001b[0m\u001b[1;33m)\u001b[0m\u001b[1;33m\u001b[0m\u001b[0m\n\u001b[0;32m    180\u001b[0m             \u001b[1;32melse\u001b[0m\u001b[1;33m:\u001b[0m\u001b[1;33m\u001b[0m\u001b[0m\n\u001b[1;32m--> 181\u001b[1;33m                 \u001b[1;32mreturn\u001b[0m \u001b[0mcls\u001b[0m\u001b[1;33m.\u001b[0m\u001b[0m_from_expr\u001b[0m\u001b[1;33m(\u001b[0m\u001b[0mrep\u001b[0m\u001b[1;33m,\u001b[0m \u001b[0mopt\u001b[0m\u001b[1;33m)\u001b[0m\u001b[1;33m\u001b[0m\u001b[0m\n\u001b[0m\u001b[0;32m    182\u001b[0m \u001b[1;33m\u001b[0m\u001b[0m\n\u001b[0;32m    183\u001b[0m     \u001b[1;31m# Poly does not pass its args to Basic.__new__ to be stored in _args so we\u001b[0m\u001b[1;33m\u001b[0m\u001b[1;33m\u001b[0m\u001b[0m\n",
      "\u001b[1;32mc:\\users\\陆雨航\\appdata\\local\\programs\\python\\python37\\lib\\site-packages\\sympy\\polys\\polytools.py\u001b[0m in \u001b[0;36m_from_expr\u001b[1;34m(cls, rep, opt)\u001b[0m\n\u001b[0;32m    309\u001b[0m         \u001b[1;34m\"\"\"Construct a polynomial from an expression. \"\"\"\u001b[0m\u001b[1;33m\u001b[0m\u001b[0m\n\u001b[0;32m    310\u001b[0m         \u001b[0mrep\u001b[0m\u001b[1;33m,\u001b[0m \u001b[0mopt\u001b[0m \u001b[1;33m=\u001b[0m \u001b[0m_dict_from_expr\u001b[0m\u001b[1;33m(\u001b[0m\u001b[0mrep\u001b[0m\u001b[1;33m,\u001b[0m \u001b[0mopt\u001b[0m\u001b[1;33m)\u001b[0m\u001b[1;33m\u001b[0m\u001b[0m\n\u001b[1;32m--> 311\u001b[1;33m         \u001b[1;32mreturn\u001b[0m \u001b[0mcls\u001b[0m\u001b[1;33m.\u001b[0m\u001b[0m_from_dict\u001b[0m\u001b[1;33m(\u001b[0m\u001b[0mrep\u001b[0m\u001b[1;33m,\u001b[0m \u001b[0mopt\u001b[0m\u001b[1;33m)\u001b[0m\u001b[1;33m\u001b[0m\u001b[0m\n\u001b[0m\u001b[0;32m    312\u001b[0m \u001b[1;33m\u001b[0m\u001b[0m\n\u001b[0;32m    313\u001b[0m     \u001b[1;33m@\u001b[0m\u001b[0mclassmethod\u001b[0m\u001b[1;33m\u001b[0m\u001b[0m\n",
      "\u001b[1;32mc:\\users\\陆雨航\\appdata\\local\\programs\\python\\python37\\lib\\site-packages\\sympy\\polys\\polytools.py\u001b[0m in \u001b[0;36m_from_dict\u001b[1;34m(cls, rep, opt)\u001b[0m\n\u001b[0;32m    258\u001b[0m                 \u001b[0mrep\u001b[0m\u001b[1;33m[\u001b[0m\u001b[0mmonom\u001b[0m\u001b[1;33m]\u001b[0m \u001b[1;33m=\u001b[0m \u001b[0mdomain\u001b[0m\u001b[1;33m.\u001b[0m\u001b[0mconvert\u001b[0m\u001b[1;33m(\u001b[0m\u001b[0mcoeff\u001b[0m\u001b[1;33m)\u001b[0m\u001b[1;33m\u001b[0m\u001b[0m\n\u001b[0;32m    259\u001b[0m \u001b[1;33m\u001b[0m\u001b[0m\n\u001b[1;32m--> 260\u001b[1;33m         \u001b[1;32mreturn\u001b[0m \u001b[0mcls\u001b[0m\u001b[1;33m.\u001b[0m\u001b[0mnew\u001b[0m\u001b[1;33m(\u001b[0m\u001b[0mDMP\u001b[0m\u001b[1;33m.\u001b[0m\u001b[0mfrom_dict\u001b[0m\u001b[1;33m(\u001b[0m\u001b[0mrep\u001b[0m\u001b[1;33m,\u001b[0m \u001b[0mlevel\u001b[0m\u001b[1;33m,\u001b[0m \u001b[0mdomain\u001b[0m\u001b[1;33m)\u001b[0m\u001b[1;33m,\u001b[0m \u001b[1;33m*\u001b[0m\u001b[0mgens\u001b[0m\u001b[1;33m)\u001b[0m\u001b[1;33m\u001b[0m\u001b[0m\n\u001b[0m\u001b[0;32m    261\u001b[0m \u001b[1;33m\u001b[0m\u001b[0m\n\u001b[0;32m    262\u001b[0m     \u001b[1;33m@\u001b[0m\u001b[0mclassmethod\u001b[0m\u001b[1;33m\u001b[0m\u001b[0m\n",
      "\u001b[1;32mc:\\users\\陆雨航\\appdata\\local\\programs\\python\\python37\\lib\\site-packages\\sympy\\polys\\polyclasses.py\u001b[0m in \u001b[0;36mfrom_dict\u001b[1;34m(cls, rep, lev, dom)\u001b[0m\n\u001b[0;32m    277\u001b[0m     \u001b[1;32mdef\u001b[0m \u001b[0mfrom_dict\u001b[0m\u001b[1;33m(\u001b[0m\u001b[0mcls\u001b[0m\u001b[1;33m,\u001b[0m \u001b[0mrep\u001b[0m\u001b[1;33m,\u001b[0m \u001b[0mlev\u001b[0m\u001b[1;33m,\u001b[0m \u001b[0mdom\u001b[0m\u001b[1;33m)\u001b[0m\u001b[1;33m:\u001b[0m\u001b[1;33m\u001b[0m\u001b[0m\n\u001b[0;32m    278\u001b[0m         \u001b[1;34m\"\"\"Construct and instance of ``cls`` from a ``dict`` representation. \"\"\"\u001b[0m\u001b[1;33m\u001b[0m\u001b[0m\n\u001b[1;32m--> 279\u001b[1;33m         \u001b[1;32mreturn\u001b[0m \u001b[0mcls\u001b[0m\u001b[1;33m(\u001b[0m\u001b[0mdmp_from_dict\u001b[0m\u001b[1;33m(\u001b[0m\u001b[0mrep\u001b[0m\u001b[1;33m,\u001b[0m \u001b[0mlev\u001b[0m\u001b[1;33m,\u001b[0m \u001b[0mdom\u001b[0m\u001b[1;33m)\u001b[0m\u001b[1;33m,\u001b[0m \u001b[0mdom\u001b[0m\u001b[1;33m,\u001b[0m \u001b[0mlev\u001b[0m\u001b[1;33m)\u001b[0m\u001b[1;33m\u001b[0m\u001b[0m\n\u001b[0m\u001b[0;32m    280\u001b[0m \u001b[1;33m\u001b[0m\u001b[0m\n\u001b[0;32m    281\u001b[0m     \u001b[1;33m@\u001b[0m\u001b[0mclassmethod\u001b[0m\u001b[1;33m\u001b[0m\u001b[0m\n",
      "\u001b[1;32mc:\\users\\陆雨航\\appdata\\local\\programs\\python\\python37\\lib\\site-packages\\sympy\\polys\\densebasic.py\u001b[0m in \u001b[0;36mdmp_from_dict\u001b[1;34m(f, u, K)\u001b[0m\n\u001b[0;32m   1012\u001b[0m             \u001b[0mh\u001b[0m\u001b[1;33m.\u001b[0m\u001b[0mappend\u001b[0m\u001b[1;33m(\u001b[0m\u001b[0mdmp_from_dict\u001b[0m\u001b[1;33m(\u001b[0m\u001b[0mcoeff\u001b[0m\u001b[1;33m,\u001b[0m \u001b[0mv\u001b[0m\u001b[1;33m,\u001b[0m \u001b[0mK\u001b[0m\u001b[1;33m)\u001b[0m\u001b[1;33m)\u001b[0m\u001b[1;33m\u001b[0m\u001b[0m\n\u001b[0;32m   1013\u001b[0m         \u001b[1;32melse\u001b[0m\u001b[1;33m:\u001b[0m\u001b[1;33m\u001b[0m\u001b[0m\n\u001b[1;32m-> 1014\u001b[1;33m             \u001b[0mh\u001b[0m\u001b[1;33m.\u001b[0m\u001b[0mappend\u001b[0m\u001b[1;33m(\u001b[0m\u001b[0mdmp_zero\u001b[0m\u001b[1;33m(\u001b[0m\u001b[0mv\u001b[0m\u001b[1;33m)\u001b[0m\u001b[1;33m)\u001b[0m\u001b[1;33m\u001b[0m\u001b[0m\n\u001b[0m\u001b[0;32m   1015\u001b[0m \u001b[1;33m\u001b[0m\u001b[0m\n\u001b[0;32m   1016\u001b[0m     \u001b[1;32mreturn\u001b[0m \u001b[0mdmp_strip\u001b[0m\u001b[1;33m(\u001b[0m\u001b[0mh\u001b[0m\u001b[1;33m,\u001b[0m \u001b[0mu\u001b[0m\u001b[1;33m)\u001b[0m\u001b[1;33m\u001b[0m\u001b[0m\n",
      "\u001b[1;32mc:\\users\\陆雨航\\appdata\\local\\programs\\python\\python37\\lib\\site-packages\\sympy\\polys\\densebasic.py\u001b[0m in \u001b[0;36mdmp_zero\u001b[1;34m(u)\u001b[0m\n\u001b[0;32m    734\u001b[0m \u001b[1;33m\u001b[0m\u001b[0m\n\u001b[0;32m    735\u001b[0m     \u001b[1;32mfor\u001b[0m \u001b[0mi\u001b[0m \u001b[1;32min\u001b[0m \u001b[0mrange\u001b[0m\u001b[1;33m(\u001b[0m\u001b[0mu\u001b[0m\u001b[1;33m)\u001b[0m\u001b[1;33m:\u001b[0m\u001b[1;33m\u001b[0m\u001b[0m\n\u001b[1;32m--> 736\u001b[1;33m         \u001b[0mr\u001b[0m \u001b[1;33m=\u001b[0m \u001b[1;33m[\u001b[0m\u001b[0mr\u001b[0m\u001b[1;33m]\u001b[0m\u001b[1;33m\u001b[0m\u001b[0m\n\u001b[0m\u001b[0;32m    737\u001b[0m \u001b[1;33m\u001b[0m\u001b[0m\n\u001b[0;32m    738\u001b[0m     \u001b[1;32mreturn\u001b[0m \u001b[0mr\u001b[0m\u001b[1;33m\u001b[0m\u001b[0m\n",
      "\u001b[1;31mKeyboardInterrupt\u001b[0m: "
     ]
    }
   ],
   "source": [
    "sp.solve(sp.diff((sp.im(Real)**2+sp.re(Real)**2).simplify(),d),d)"
   ]
  },
  {
   "cell_type": "code",
   "execution_count": 30,
   "id": "998908dc",
   "metadata": {
    "ExecuteTime": {
     "end_time": "2022-09-17T08:44:28.009415Z",
     "start_time": "2022-09-17T08:44:26.115384Z"
    }
   },
   "outputs": [
    {
     "data": {
      "text/latex": [
       "$\\displaystyle \\frac{- r^{2} \\left(\\cos{\\left(\\frac{4 \\pi d n}{\\lambda} \\right)} - 1\\right) \\sin{\\left(\\frac{4 \\pi d n}{\\lambda} \\right)} + r^{2} \\sin^{2}{\\left(\\frac{4 \\pi d n}{\\lambda} \\right)} + \\left(r^{2} \\cos{\\left(\\frac{4 \\pi d n}{\\lambda} \\right)} - 1\\right) \\left(\\cos{\\left(\\frac{4 \\pi d n}{\\lambda} \\right)} - 1\\right) + \\left(r^{2} \\cos{\\left(\\frac{4 \\pi d n}{\\lambda} \\right)} - 1\\right) \\sin{\\left(\\frac{4 \\pi d n}{\\lambda} \\right)}}{r^{4} \\sin^{2}{\\left(\\frac{4 \\pi d n}{\\lambda} \\right)} + \\left(r^{2} \\cos{\\left(\\frac{4 \\pi d n}{\\lambda} \\right)} - 1\\right)^{2}}$"
      ],
      "text/plain": [
       "(-r**2*(cos(4*pi*d*n/lamda) - 1)*sin(4*pi*d*n/lamda) + r**2*sin(4*pi*d*n/lamda)**2 + (r**2*cos(4*pi*d*n/lamda) - 1)*(cos(4*pi*d*n/lamda) - 1) + (r**2*cos(4*pi*d*n/lamda) - 1)*sin(4*pi*d*n/lamda))/(r**4*sin(4*pi*d*n/lamda)**2 + (r**2*cos(4*pi*d*n/lamda) - 1)**2)"
      ]
     },
     "execution_count": 30,
     "metadata": {},
     "output_type": "execute_result"
    }
   ],
   "source": [
    "(sp.re(A)+sp.im(A)).simplify()"
   ]
  },
  {
   "cell_type": "code",
   "execution_count": 54,
   "id": "18599c9c",
   "metadata": {
    "ExecuteTime": {
     "end_time": "2022-09-17T09:06:55.030674Z",
     "start_time": "2022-09-17T09:06:54.936427Z"
    }
   },
   "outputs": [],
   "source": [
    "f=sp.lambdify(d,Real,'numpy')"
   ]
  },
  {
   "cell_type": "code",
   "execution_count": 56,
   "id": "6603dd69",
   "metadata": {
    "ExecuteTime": {
     "end_time": "2022-09-17T09:08:29.681547Z",
     "start_time": "2022-09-17T09:08:29.662538Z"
    }
   },
   "outputs": [],
   "source": [
    "import numpy as np"
   ]
  },
  {
   "cell_type": "code",
   "execution_count": 58,
   "id": "cb37d3c2",
   "metadata": {
    "ExecuteTime": {
     "end_time": "2022-09-17T09:10:31.460979Z",
     "start_time": "2022-09-17T09:10:31.438979Z"
    }
   },
   "outputs": [
    {
     "ename": "TypeError",
     "evalue": "can't multiply sequence by non-int of type 'complex'",
     "output_type": "error",
     "traceback": [
      "\u001b[1;31m---------------------------------------------------------------------------\u001b[0m",
      "\u001b[1;31mTypeError\u001b[0m                                 Traceback (most recent call last)",
      "\u001b[1;32mD:\\Temp/ipykernel_16264/3087207024.py\u001b[0m in \u001b[0;36m<module>\u001b[1;34m\u001b[0m\n\u001b[1;32m----> 1\u001b[1;33m \u001b[0mf\u001b[0m\u001b[1;33m(\u001b[0m\u001b[1;33m[\u001b[0m\u001b[1;36m1\u001b[0m\u001b[1;33m,\u001b[0m\u001b[1;36m2\u001b[0m\u001b[1;33m]\u001b[0m\u001b[1;33m)\u001b[0m\u001b[1;33m\u001b[0m\u001b[0m\n\u001b[0m",
      "\u001b[1;32m<lambdifygenerated-1>\u001b[0m in \u001b[0;36m_lambdifygenerated\u001b[1;34m(d)\u001b[0m\n\u001b[0;32m      1\u001b[0m \u001b[1;32mdef\u001b[0m \u001b[0m_lambdifygenerated\u001b[0m\u001b[1;33m(\u001b[0m\u001b[0md\u001b[0m\u001b[1;33m)\u001b[0m\u001b[1;33m:\u001b[0m\u001b[1;33m\u001b[0m\u001b[0m\n\u001b[1;32m----> 2\u001b[1;33m     \u001b[1;32mreturn\u001b[0m \u001b[1;33m(\u001b[0m\u001b[1;36m1.0\u001b[0m \u001b[1;33m-\u001b[0m \u001b[0mexp\u001b[0m\u001b[1;33m(\u001b[0m\u001b[1;36m8866666.66666667\u001b[0m\u001b[1;33m*\u001b[0m\u001b[1;36m1j\u001b[0m\u001b[1;33m*\u001b[0m\u001b[0mpi\u001b[0m\u001b[1;33m*\u001b[0m\u001b[0md\u001b[0m\u001b[1;33m)\u001b[0m\u001b[1;33m)\u001b[0m\u001b[1;33m/\u001b[0m\u001b[1;33m(\u001b[0m\u001b[1;36m1.0\u001b[0m \u001b[1;33m-\u001b[0m \u001b[1;36m0.020059\u001b[0m\u001b[1;33m*\u001b[0m\u001b[0mexp\u001b[0m\u001b[1;33m(\u001b[0m\u001b[1;36m8866666.66666667\u001b[0m\u001b[1;33m*\u001b[0m\u001b[1;36m1j\u001b[0m\u001b[1;33m*\u001b[0m\u001b[0mpi\u001b[0m\u001b[1;33m*\u001b[0m\u001b[0md\u001b[0m\u001b[1;33m)\u001b[0m\u001b[1;33m)\u001b[0m\u001b[1;33m\u001b[0m\u001b[0m\n\u001b[0m",
      "\u001b[1;31mTypeError\u001b[0m: can't multiply sequence by non-int of type 'complex'"
     ]
    }
   ],
   "source": [
    "f([1,2])"
   ]
  }
 ],
 "metadata": {
  "kernelspec": {
   "display_name": "Python 3 (ipykernel)",
   "language": "python",
   "name": "python3"
  },
  "language_info": {
   "codemirror_mode": {
    "name": "ipython",
    "version": 3
   },
   "file_extension": ".py",
   "mimetype": "text/x-python",
   "name": "python",
   "nbconvert_exporter": "python",
   "pygments_lexer": "ipython3",
   "version": "3.7.0"
  },
  "toc": {
   "base_numbering": 1,
   "nav_menu": {},
   "number_sections": true,
   "sideBar": true,
   "skip_h1_title": false,
   "title_cell": "Table of Contents",
   "title_sidebar": "Contents",
   "toc_cell": false,
   "toc_position": {},
   "toc_section_display": true,
   "toc_window_display": false
  },
  "varInspector": {
   "cols": {
    "lenName": 16,
    "lenType": 16,
    "lenVar": 40
   },
   "kernels_config": {
    "python": {
     "delete_cmd_postfix": "",
     "delete_cmd_prefix": "del ",
     "library": "var_list.py",
     "varRefreshCmd": "print(var_dic_list())"
    },
    "r": {
     "delete_cmd_postfix": ") ",
     "delete_cmd_prefix": "rm(",
     "library": "var_list.r",
     "varRefreshCmd": "cat(var_dic_list()) "
    }
   },
   "oldHeight": 282.85,
   "position": {
    "height": "40px",
    "left": "478.6px",
    "right": "20px",
    "top": "18px",
    "width": "397px"
   },
   "types_to_exclude": [
    "module",
    "function",
    "builtin_function_or_method",
    "instance",
    "_Feature"
   ],
   "varInspector_section_display": "none",
   "window_display": true
  }
 },
 "nbformat": 4,
 "nbformat_minor": 5
}
